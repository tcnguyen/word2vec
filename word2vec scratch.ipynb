{
 "cells": [
  {
   "cell_type": "code",
   "execution_count": 4,
   "metadata": {
    "collapsed": false
   },
   "outputs": [],
   "source": [
    "with open(\"./pride_and_prejudice.txt\", \"r\") as f:\n",
    "    corpus = f.readlines()"
   ]
  },
  {
   "cell_type": "code",
   "execution_count": 8,
   "metadata": {
    "collapsed": false
   },
   "outputs": [],
   "source": [
    "sample = corpus[:100]"
   ]
  },
  {
   "cell_type": "code",
   "execution_count": 36,
   "metadata": {
    "collapsed": false
   },
   "outputs": [],
   "source": [
    "import re\n",
    "def preprocess_text(corpus):\n",
    "    # lowercase\n",
    "    corpus = sum([a.lower().split() for a in corpus if a != \"\\n\"],[])\n",
    "    corpus = [re.sub('[^A-Za-z0-9]+', '', token) for token in corpus]\n",
    "    corpus = [token for token in corpus if len(token) > 0] \n",
    "    corpus = [re.sub('^\\d+$', '_NUM_', token) for token in corpus]\n",
    "    \n",
    "    return corpus\n",
    "\n",
    "corpus = preprocess_text(corpus)"
   ]
  },
  {
   "cell_type": "code",
   "execution_count": 53,
   "metadata": {
    "collapsed": false
   },
   "outputs": [
    {
     "data": {
      "text/plain": [
       "124543"
      ]
     },
     "execution_count": 53,
     "metadata": {},
     "output_type": "execute_result"
    }
   ],
   "source": [
    "len(corpus)"
   ]
  },
  {
   "cell_type": "code",
   "execution_count": 52,
   "metadata": {
    "collapsed": false
   },
   "outputs": [
    {
     "name": "stdout",
     "output_type": "stream",
     "text": [
      "Vocabulary size:  7044\n",
      "['13420txt', '13420zip', '15th', '18th', '1a', '1b', '1c', '1d', '1e', '1e1', '1e2', '1e3', '1e4', '1e5', '1e6', '1e7', '1e8', '1e9', '1f', '1f1', '1f2', '1f3', '1f4', '1f5', '1f6', '26th', '501c3', '_NUM_', 'a', 'abatement', 'abhorrence', 'abhorrent', 'abide', 'abiding', 'abilities', 'able', 'ablution', 'abode', 'abominable', 'abominably', 'abominate', 'abound', 'about', 'above', 'abroad', 'abrupt', 'abruptly', 'abruptness', 'absence', 'absent', 'absolute', 'absolutely', 'absurd', 'absurdities', 'absurdity', 'abundant', 'abundantly', 'abuse', 'abused', 'abusing', 'abusive', 'accede', 'acceded', 'acceding', 'accent', 'accents', 'accept', 'acceptable', 'acceptance', 'accepted', 'accepting', 'access', 'accessed', 'accessible', 'accident', 'accidental', 'accidentally', 'accompanied', 'accompany', 'accompanying', 'accomplished', 'accomplishedshe', 'accomplishment', 'accomplishments', 'accordance', 'according', 'accordingly', 'accosted', 'account', 'accounted', 'accounting', 'accounts', 'accuracy', 'accurate', 'accusation', 'accusations', 'accuse', 'accused', 'accusing', 'accustomed']\n"
     ]
    }
   ],
   "source": [
    "vocab = sorted(list(set(corpus)))\n",
    "print( \"Vocabulary size: \", len(vocab))\n",
    "print(vocab[:100])"
   ]
  },
  {
   "cell_type": "markdown",
   "metadata": {},
   "source": [
    "- Total words: 125000\n",
    "- Vocabulary size: 7100\n"
   ]
  },
  {
   "cell_type": "markdown",
   "metadata": {},
   "source": [
    "## word to id representation"
   ]
  },
  {
   "cell_type": "code",
   "execution_count": 55,
   "metadata": {
    "collapsed": false
   },
   "outputs": [],
   "source": [
    "word_to_ids = {vocab[i]:(i+1) for i in range(len(vocab))}\n",
    "id_to_words = {(i+1):vocab[i] for i in range(len(vocab))}"
   ]
  },
  {
   "cell_type": "code",
   "execution_count": 56,
   "metadata": {
    "collapsed": false
   },
   "outputs": [
    {
     "name": "stdout",
     "output_type": "stream",
     "text": [
      "[6267, 4911, 2887, 2025, 4332, 4852, 319, 4797, 859, 3545, 548, 6302, 2025, 3532, 2574, 6267, 6655, 4332, 365, 367, 504, 4222, 1409, 319, 6937, 269, 4222, 5367, 6867, 7026, 3931, 1390, 3534, 2754, 3534, 572, 4388, 5390, 3534, 6516, 6267, 6251, 4332, 6267, 4911, 2887, 3735, 3274, 6937, 6302, 2025, 4388, 4369, 504, 7002, 6347, 4852, 319, 4797, 550, 3545, 548, 4756, 1521, 545, 28, 28, 2025, 28, 5213, 1521, 3587, 28, 3662, 6645, 4326, 28, 28, 3655, 2146, 974, 5658, 2114, 6665, 5953, 4332, 6302, 4911, 2887, 2025, 4852, 319, 4797, 4889, 859, 344, 6757, 4852, 319, 4797]\n"
     ]
    }
   ],
   "source": [
    "corpus_ids = [word_to_ids[token] for token in corpus]\n",
    "print(corpus_ids[:100])"
   ]
  },
  {
   "cell_type": "code",
   "execution_count": 57,
   "metadata": {
    "collapsed": true
   },
   "outputs": [],
   "source": [
    "import tensorflow as tf"
   ]
  },
  {
   "cell_type": "code",
   "execution_count": 59,
   "metadata": {
    "collapsed": true
   },
   "outputs": [],
   "source": [
    "V = len(vocab)\n",
    "C = 3 # context size \n",
    "D = 20\n",
    "N = len(corpus)\n",
    "batch size = 128"
   ]
  },
  {
   "cell_type": "code",
   "execution_count": 93,
   "metadata": {
    "collapsed": false
   },
   "outputs": [],
   "source": [
    "def create_word_pair(word_ids, C):\n",
    "    # cut corpus in batch_size\n",
    "    N = len(word_ids)    \n",
    "    M = (N-2*C) * 2*C\n",
    "    centers = [0] * M\n",
    "    targets = [0] * M\n",
    "    \n",
    "    for i in range(C, N-C):        \n",
    "        k = (i-C)*2*C + C\n",
    "        \n",
    "        for j in range(1, C + 1):            \n",
    "            centers[k - j]  = word_ids[i]\n",
    "            targets[k - j]  = word_ids[i - j]            \n",
    "            \n",
    "            centers[k + j - 1]  = word_ids[i]\n",
    "            targets[k + j - 1]  = word_ids[i + j]\n",
    "            \n",
    "    return list(zip(centers, targets))"
   ]
  },
  {
   "cell_type": "code",
   "execution_count": 97,
   "metadata": {
    "collapsed": false
   },
   "outputs": [
    {
     "name": "stdout",
     "output_type": "stream",
     "text": [
      "[(3, 1), (3, 2), (3, 4), (3, 5), (4, 2), (4, 3), (4, 5), (4, 6), (5, 3), (5, 4), (5, 6), (5, 7), (6, 4), (6, 5), (6, 7), (6, 8)]\n"
     ]
    }
   ],
   "source": [
    "train_pairs = create_word_pair([1,2,3,4,5,6,7,8],2)\n",
    "print(train_pairs)"
   ]
  },
  {
   "cell_type": "code",
   "execution_count": 109,
   "metadata": {
    "collapsed": true
   },
   "outputs": [],
   "source": [
    "import random \n",
    "def create_batches(train_pairs, batch_size):\n",
    "    random.shuffle(train_pairs)\n",
    "    M = len(train_pairs) // batch_size\n",
    "    if len(train_pairs) > batch_size * M:\n",
    "        M += 1\n",
    "    \n",
    "    return [train_pairs[i*batch_size:(i+1)*batch_size] for i in range(M)]"
   ]
  },
  {
   "cell_type": "markdown",
   "metadata": {},
   "source": [
    "## Model\n",
    "\n",
    "- Input : batch of (id_word, id_context_word)\n",
    "- 2 embedded matrix each of size (VxD): P and Q\n",
    "-\n"
   ]
  },
  {
   "cell_type": "code",
   "execution_count": 75,
   "metadata": {
    "collapsed": false
   },
   "outputs": [
    {
     "name": "stdout",
     "output_type": "stream",
     "text": [
      "parameters\n",
      "[[1 3]\n",
      " [0 2]]\n",
      "[[-0.39915761  2.10443926  0.17107224]\n",
      " [ 0.54651815 -2.42340255  0.42255393]\n",
      " [ 0.28943786 -0.50430411 -0.96068907]\n",
      " [-0.65109813  0.11453361 -0.10354779]]\n",
      "lookup\n",
      "[[[ 0.54651815 -2.42340255  0.42255393]\n",
      "  [-0.65109813  0.11453361 -0.10354779]]\n",
      "\n",
      " [[-0.39915761  2.10443926  0.17107224]\n",
      "  [ 0.28943786 -0.50430411 -0.96068907]]]\n"
     ]
    }
   ],
   "source": [
    "params = tf.Variable(tf.random_normal([4,3], mean=0.0, stddev=1.0, seed=0))\n",
    "initializer = tf.global_variables_initializer()\n",
    "\n",
    "ids= tf.constant([[1,3], [0, 2 ]])\n",
    "\n",
    "lookup = tf.nn.embedding_lookup(params, ids)\n",
    "\n",
    "with tf.Session() as sess:\n",
    "    sess.run(initializer)\n",
    "    print(\"parameters\")\n",
    "    print(sess.run(ids))\n",
    "    print(sess.run(params))\n",
    "    print(\"lookup\")\n",
    "    print(sess.run(lookup))\n"
   ]
  },
  {
   "cell_type": "code",
   "execution_count": null,
   "metadata": {
    "collapsed": true
   },
   "outputs": [],
   "source": []
  },
  {
   "cell_type": "code",
   "execution_count": null,
   "metadata": {
    "collapsed": true
   },
   "outputs": [],
   "source": []
  }
 ],
 "metadata": {
  "kernelspec": {
   "display_name": "Python 3",
   "language": "python",
   "name": "python3"
  },
  "language_info": {
   "codemirror_mode": {
    "name": "ipython",
    "version": 3
   },
   "file_extension": ".py",
   "mimetype": "text/x-python",
   "name": "python",
   "nbconvert_exporter": "python",
   "pygments_lexer": "ipython3",
   "version": "3.6.0"
  }
 },
 "nbformat": 4,
 "nbformat_minor": 2
}
